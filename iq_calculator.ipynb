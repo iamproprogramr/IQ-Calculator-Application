#this program is written by muhammad yousaf email:yousafsahiwal3@gmail.com
from PIL import Image, ImageTk, ImageDraw
import tkinter as tk
from tkinter import messagebox



def create_rounded_rectangle(w, h, r):
    im = Image.new("RGBA", (w, h), (255, 255, 255, 0))
    d = ImageDraw.Draw(im)
    
    
    d.pieslice([(0, 0), (r*2, r*2)], 180, 270, fill="white")
    d.pieslice([(w-r*2, 0), (w, r*2)], 270, 360, fill="white")
    d.pieslice([(0, h-r*2), (r*2, h)], 90, 180, fill="white")
    d.pieslice([(w-r*2, h-r*2), (w, h)], 0, 90, fill="white")
    
    
    d.rectangle([(r, 0), (w-r, h)], fill="white")
    d.rectangle([(0, r), (w, h-r)], fill="white")
    
    return ImageTk.PhotoImage(im)

class App:
    def __init__(self, root):
        self.root = root
        self.root.title("IQ Calculator")
        
        
        self.window_width = 600
        self.window_height = 400
        self.radius = 30
        
        
        self.background_image = create_rounded_rectangle(self.window_width, self.window_height, self.radius)
        self.background_label = tk.Label(self.root, image=self.background_image)
        self.background_label.place(x=-2, y=-2)
        
        self.root.geometry(f"{self.window_width}x{self.window_height}")
        self.root.overrideredirect(1)
        
        self.score = 0
        self.question_index = 0
        
        self.questions = [
            {"question": "What months have 28 days?", "answer": "All months"},
            {"question": "You need to enter a dark room and only have one match. What do you light first?", "answer": "The match"},
            {"question": "A bat and a ball cost a total of $1.10. The bat costs $1 more than the ball. How much does the ball cost?", "answer": "5 cents"},
            {"question": "A patch of lily pads covers an area within a lake, and the patch doubles its size every day. If it takes 48 days for the patch to cover the entire lake, how long does it take for the patch to cover half the lake?", "answer": "47 days"},
            {"question": "A red house is made of red bricks, and a blue house is made of blue bricks. What's a greenhouse made of?", "answer": "Glass"},
            {"question": "Assume you're driving the bus from New York to Boston. Fifteen people get on the bus in New York, and only one person gets off the bus when you reach your destination in Boston. What's the name of the bus driver?", "answer": "Your name"},
            {"question": "A house has only four walls and each of them face south. Each wall has its own window, and suddenly a bear enters the house through a window. What color is the bear?", "answer": "White"},
            {"question": "How much is half of 2 + 2?", "answer": "3"},
            {"question": "You're in a house that has two rooms, and there's no way to see from one room to the other. One room has three light switches, and the other room has three corresponding light bulbs. You don't know which switch triggers which bulb and can only make a single trip between the two rooms. How do you find out?", "answer": "Turn on two switches, wait a few minutes, then turn off one switch. The bulb that is on is controlled by the switch you left on. The warm bulb is controlled by the switch you turned off. The cold bulb is controlled by the switch you never turned on."}
        ]
        
        self.create_widgets()

    def create_widgets(self):
        self.question_label = tk.Label(self.root, text="", font=("Helvetica", 16), fg="#FFFFFF", bg="#2E2E2E", wraplength=550)
        self.question_label.pack(pady=20)

        self.answer_entry = tk.Entry(self.root, font=("Helvetica", 14), fg="#FFFFFF", bg="#4B4B4B", justify='center')
        self.answer_entry.pack(pady=20)

        self.next_button = tk.Button(self.root, text="Next", command=self.next_question, font=("Helvetica", 14), fg="#FFFFFF", bg="#4B4B4B", activebackground="#606060", padx=20, pady=10)
        self.next_button.pack(pady=20)

        self.show_question()

    def show_question(self):
        question_data = self.questions[self.question_index]
        self.question_label.config(text=question_data["question"])
        self.answer_entry.delete(0, tk.END)

    def next_question(self):
        answer = self.answer_entry.get().strip()
        correct_answer = self.questions[self.question_index]["answer"]

        if answer.lower() == correct_answer.lower():
            self.score += 1

        self.question_index += 1

        if self.question_index < len(self.questions):
            self.show_question()
        else:
            self.show_result()

    def show_result(self):
        result_message = f"Your IQ score is {self.score}/{len(self.questions)}"
        messagebox.showinfo("IQ Result", result_message)
        self.root.quit()

if __name__ == "__main__":
    screen = tk.Tk()
    app = App(screen)
    screen.mainloop()
